{
 "cells": [
  {
   "cell_type": "markdown",
   "metadata": {},
   "source": [
    "## Домашняя работа 4"
   ]
  },
  {
   "cell_type": "markdown",
   "metadata": {},
   "source": [
    "***В сумме за домашнюю работу вы можете получить 17 баллов.*** <br> \n",
    "***Итоговая оценка будет равна доле полученных баллов от общей суммы x10.*** \n",
    "<p>\n",
    "<font size='3' color=\"B3000C\">Ноутбук (файл в расширением .ipynb) выложите на свой git и пришлите ссылку на почту python.in.miigaik@gmail.com.<br> В теме письма укажите номер домашней работы и номер группы: HW... , Group... .</font>\n",
    "</p>"
   ]
  },
  {
   "cell_type": "markdown",
   "metadata": {},
   "source": [
    "### Задача 1 «Длина отрезка»   (1 балл)\n",
    "Пользователь с клавиатуры вводит четыре действительных числа: x1, y1, x2, y2. Напишите функцию distance(x1, y1, x2, y2), вычисляющая расстояние между точкой (x1,y1) и (x2,y2). \n",
    "<img src=\"http://www.codecogs.com/gif.latex?d=\\sqrt{(x_2-x_1)^2+(y_2-y_1)^2}\">"
   ]
  },
  {
   "cell_type": "code",
   "execution_count": 1,
   "metadata": {},
   "outputs": [],
   "source": [
    "def distance(x1,y1,x2,y2):\n",
    "    d=((x2-x1)**2+(y2-y1)**2)**(1/2)\n",
    "    print(\"Расстояние между точкой с координатами \"+'('+str(x1)+','+str(y1)+') и точкой с координатами '+'('+str(x2)+','+str(y2)+') =',d)"
   ]
  },
  {
   "cell_type": "code",
   "execution_count": 2,
   "metadata": {},
   "outputs": [
    {
     "name": "stdout",
     "output_type": "stream",
     "text": [
      "Расстояние между точкой с координатами (1,1) и точкой с координатами (4,5) = 5.0\n"
     ]
    }
   ],
   "source": [
    "distance(1,1,4,5)"
   ]
  },
  {
   "cell_type": "markdown",
   "metadata": {},
   "source": [
    "### Задача 2 (2 балла)\n",
    "Вам дается два списка строк. Будем рассматривать следующие разности:  $$|len(a) - len(b)|,$$ где a - элемент из первого списка, а b - из второго. <br>\n",
    "Напишите функцию, которая возвращает наибольшую такую разность.\n",
    "На вход такой функции подается два списка строк.\n",
    "\n",
    "** Подсказка **\n",
    "abs() - функция нахождения модуля."
   ]
  },
  {
   "cell_type": "code",
   "execution_count": 5,
   "metadata": {},
   "outputs": [],
   "source": [
    "first_list = ['Ночь', 'улица', 'фонарь', 'аптека', 'Бессмысленный', 'и', 'тусклый', 'свет']\n",
    "second_list = ['Живи', 'еще', 'хоть', 'четверть', 'века', 'Все', 'будет', 'так', 'Исхода', 'нет']"
   ]
  },
  {
   "cell_type": "code",
   "execution_count": 3,
   "metadata": {},
   "outputs": [],
   "source": [
    "def ex2(x1,x2):\n",
    "    g=[abs(len(i)-len(j)) for i in x1 for j in x2]      \n",
    "    max=g[0]\n",
    "    for i in g:\n",
    "        if i>max:\n",
    "            max=i\n",
    "    print(max)"
   ]
  },
  {
   "cell_type": "code",
   "execution_count": 6,
   "metadata": {},
   "outputs": [
    {
     "name": "stdout",
     "output_type": "stream",
     "text": [
      "10\n"
     ]
    }
   ],
   "source": [
    "ex2(first_list,second_list)"
   ]
  },
  {
   "cell_type": "markdown",
   "metadata": {},
   "source": [
    "### Задача 3 (1 балл)\n",
    "Вам дается строка в которой присутвуют подряд идущие одинаковые символы. Напишите функцию, которая принимает строку и возвращает ее в \"нормальном\" виде: то есть из подряд идущих одинаковых символов оставляет только один.\n",
    "\n",
    "**Пример **<br>\n",
    "'Привеееееееет!!! Я тттвоя новаяяя стррока)))))' -> 'Привет! Я твоя новая строка)'\n"
   ]
  },
  {
   "cell_type": "code",
   "execution_count": 7,
   "metadata": {},
   "outputs": [],
   "source": [
    "def ex3(x1):\n",
    "    g=[x1[i] for i in range(len(x1)-1) if x1[i]!=x1[(i+1)]]\n",
    "    print(''.join(g)+str(x1[len(x1)-1]))"
   ]
  },
  {
   "cell_type": "code",
   "execution_count": 8,
   "metadata": {},
   "outputs": [
    {
     "name": "stdout",
     "output_type": "stream",
     "text": [
      "Привет! Я твоя новая строка)\n"
     ]
    }
   ],
   "source": [
    "s='Привеееееееет!!! Я тттвоя новаяяя стррока)))))'\n",
    "ex3(s)"
   ]
  },
  {
   "cell_type": "markdown",
   "metadata": {},
   "source": [
    "### Задача 4 (1 балл)\n",
    "Напишите функцию, на вход которой подается строка и которая должна вернуть строку - часть алфавита, в которой буква будет заглавной, если ее не было в строке,  и маленькой, если она была в строке. При этом нужно вывести ту часть алфавита, которая начинается с первого символа присутствующего в строке и заканчивается также символом присутствующем в строке.\n",
    "\n",
    "** Подсказка**<br>\n",
    "Чтобы не писать алфавиты вручную, воспользуйтесь функциями ord() и chr()? кторые по заданным символам или номерам, соответственно, выводят символ или его номер.<br>\n",
    "ord('a') == 97, chr(97) == 'a'\n",
    "\n",
    "**Пример**<br>\n",
    "***Вход***<br>\n",
    "\"holly\"<br>\n",
    "***Выход***<br>\n",
    "\"hIJKMNPQRSTUVWXZoPQRSTUVWXZlMNPQRSTUVWXZly\""
   ]
  },
  {
   "cell_type": "code",
   "execution_count": 9,
   "metadata": {},
   "outputs": [],
   "source": [
    "def ex4(x):\n",
    "    max=ord(x[0])\n",
    "    min=ord(x[0])\n",
    "    for i in x:\n",
    "        if ord(i)>max:\n",
    "            max=ord(i)\n",
    "        elif ord(i)<min:\n",
    "            min=ord(i)\n",
    "    g=[(chr(j) if str(chr(j)) in x else chr(j).upper()) for j in range(min,max+1)]\n",
    "    print(''.join(g))"
   ]
  },
  {
   "cell_type": "code",
   "execution_count": 10,
   "metadata": {},
   "outputs": [
    {
     "name": "stdout",
     "output_type": "stream",
     "text": [
      "hIJKlMNoPQRSTUVWXy\n"
     ]
    }
   ],
   "source": [
    "s='holly'\n",
    "ex4(s)"
   ]
  },
  {
   "cell_type": "markdown",
   "metadata": {},
   "source": [
    "### Задача 5 (2 балла)\n",
    "Напишите функцию - кассовый аппарат, на вход которой подается содержимое кассы в виде словаря, где ключи - номиналы купюр, а значения - количества купюр данного номинала, находящиеся в кассе. Также на вход функции подается число - сдача, которую необходимо выдать из кассы. Если в кассе найдется такой набор купюр, чтобы выдать запрошенную сдачу - функция должна вернть True, если нет - False.<br>\n",
    "Купюры могут быть номиналом только 25, 50 и 100.\n",
    "\n",
    "**Пример** <br>\n",
    "cashbox = {25:1, 50:2, 100:1} <br>\n",
    "give_change(cashbox, 300) -> False  <br>\n",
    "give_change(cashbox, 75) -> True <br>\n",
    "give_change(cashbox, 0) -> True  <br>"
   ]
  },
  {
   "cell_type": "code",
   "execution_count": 3,
   "metadata": {},
   "outputs": [],
   "source": [
    "def cash(x,y):\n",
    "    x1=[i for i in list(x.keys()) for j in range(x[i])]\n",
    "    \n",
    "    ss=set()\n",
    "    ss1=set()\n",
    "    for i in range(len(x1)):\n",
    "        s=x1[i]\n",
    "        for j in range(len(x1)):\n",
    "            if i!=j:\n",
    "                s1=x1[i]+x1[j]\n",
    "                s=x1[j]+s\n",
    "                ss.add(s)\n",
    "                ss1.add(s1)\n",
    "    t=ss.union(ss1)\n",
    "    if (y in x1 or y in t) or y==0:\n",
    "        #print(t,list(x.keys()))\n",
    "        return True\n",
    "    else:\n",
    "        #print(t,x1,ss)\n",
    "        return False"
   ]
  },
  {
   "cell_type": "code",
   "execution_count": 4,
   "metadata": {},
   "outputs": [
    {
     "data": {
      "text/plain": [
       "True"
      ]
     },
     "execution_count": 4,
     "metadata": {},
     "output_type": "execute_result"
    }
   ],
   "source": [
    "cash({25:1,50:1,100:100},75)"
   ]
  },
  {
   "cell_type": "markdown",
   "metadata": {},
   "source": [
    "### Задача 6 (1 балл)\n",
    "Иннокентий работает кассиром в кинотеатре. Билет на любой фильм стоит 25.**-** В кассу выстроилась очередь, у всех купюры номиналом 25, 50 или 100.**-**. В кинотеатре правило: 1 билет в одни руки. У Кеши пустая касса. Сможет ли он обслужить всех людей из очереди (то есть своевременно выдать каждому сдачу)? Люди в очереди местами не меняются.\n",
    "\n",
    "Напишите функцию, на вход которой подается очередь (список из купюр, которые каждый посетитель собирается отдать) и которая возвращает True - если Кеша сможет всех обслужить и False - если нет. <br>\n",
    "P.s. очередь может быть любой длины. <br>\n",
    "P.p.s. используете функцию - кассовый аппарат, который вы написали в прошлом задании. \n",
    "\n",
    "**Пример **<br>\n",
    "Kesha(25, 25, 50) -> True<br>\n",
    "Kesha(25, 100) -> False<br>\n",
    "Kesha(25, 25, 50, 50, 100) -> False<br>"
   ]
  },
  {
   "cell_type": "code",
   "execution_count": 6,
   "metadata": {},
   "outputs": [],
   "source": [
    "\n",
    "# решение"
   ]
  },
  {
   "cell_type": "markdown",
   "metadata": {},
   "source": [
    "### Задача 7 Кегельбан (2 балла)\n",
    "N кеглей выставили в один ряд, занумеровав их слева направо числами от 1 до N. Затем по этому ряду бросили K шаров, при этом i-й шар сбил все кегли с номерами от li до ri включительно. <br>\n",
    "Напишите функцию, которая получает на вход количество кеглей N и количество бросков K, и возвращает последовательность из N символов, где j-й символ есть \"I\", если j-я кегля осталась стоять, или \".\", если j-я кегля была сбита.<br>\n",
    "Броски происходят внутри функции.\n",
    "\n",
    "**Примеры**<br>\n",
    "***Вход***<br>\n",
    "20 3<br>\n",
    "*броски*<br>\n",
    "3 8<br>\n",
    "13 17<br>\n",
    "6 9<br>\n",
    "***Выход***<br>\n",
    "II.......III.....III\n",
    "\n",
    "\n",
    "***Вход*** <br>\n",
    "5 0<br>\n",
    "***Выход*** <br>\n",
    "IIIII"
   ]
  },
  {
   "cell_type": "code",
   "execution_count": 14,
   "metadata": {},
   "outputs": [
    {
     "name": "stdout",
     "output_type": "stream",
     "text": [
      "20 3\n",
      "3 8\n",
      "13 17\n",
      "6 9\n",
      "II.......III.....III\n"
     ]
    }
   ],
   "source": [
    "N,k = list(map(int,input().split())) \n",
    "kegelban = ['I' for _ in range(N)]\n",
    "for i in range (k):\n",
    "    start,end = list(map(int,input().split()))\n",
    "    for j in range (start-1,end):\n",
    "        kegelban[j] ='.'\n",
    "print(''.join(kegelban))"
   ]
  },
  {
   "cell_type": "markdown",
   "metadata": {},
   "source": [
    "### Задача 8 Записная книжка (3 балла)\n",
    "Раньше Ева вела записную книжку хаотично - имена, адреса, номера были перемешаны в строке, но при этом в одной строке записана информация только об одном человеке. Ваша задача написать функцию, которая содержимое книжки переведет словарь со структурой, приведенной в примере. <br>\n",
    "При этом содержимое книжки подается в виде одного элемента типа строка: строчки записной книжки разделяются символом переноса строки \"\\n\", ФИО человека заключено в елочки: <>, номер обязтельно начинается с +, остальное является адресом, элементы отделяются друг от друга двумя пробелами, адрес может быть написан с разрывом. При этом Ева иногда в записях делала пометки в виде \"?\" и \"!\". Эти пометки не должны войти в конечный словарь.\n",
    "\n",
    "**Пример**<br>"
   ]
  },
  {
   "cell_type": "code",
   "execution_count": 6,
   "metadata": {},
   "outputs": [
    {
     "data": {
      "text/plain": [
       "{'Воронцов Михаил': {'address': 'ул. Большая Полянка, Москва',\n",
       "  'number': '+7-923-911-2134'},\n",
       " 'Кужим': {'address': 'Санкт-Петербург, ул.Свободы, дом 1',\n",
       "  'number': '+34-3145-3245'},\n",
       " 'Рождественский Р.': {'address': 'Мосфильмовская 34',\n",
       "  'number': '+1-541-754-3010 156'}}"
      ]
     },
     "execution_count": 6,
     "metadata": {},
     "output_type": "execute_result"
    }
   ],
   "source": [
    "s = '''+1-541-754-3010 156?!  Мосфильмовская 34,  <Рождественский Р.>\\n  ул. Большая Полянка, \n",
    "<Воронцов Михаил>  Москва!  +7-923-911-2134\\n<Кужим>  Санкт-Петербург, ул.Свободы,  +34-3145-3245  ?дом 1'''\n",
    "def parse_str(s):\n",
    "    # your code\n",
    "\n",
    "d = parse_str(s)     \n",
    "d"
   ]
  },
  {
   "cell_type": "markdown",
   "metadata": {},
   "source": [
    "### Задача 9  «Диагонали, параллельные главной» (1 балл)\n",
    "На вход функции подается число n. Функция должна создать массив $n\\times n$ и заполнить его по следующему правилу. На главной диагонали должны быть записаны числа 0. На двух диагоналях, прилегающих к главной, числа 1. На следующих двух диагоналях числа 2, и т.д.\n",
    "\n",
    "**Пример**<br>\n",
    "***Вход***<br>\n",
    "5<br>\n",
    "***Выход***\t<br>\n",
    "0 1 2 3 4<br>\n",
    "1 0 1 2 3<br>\n",
    "2 1 0 1 2<br>\n",
    "3 2 1 0 1<br>\n",
    "4 3 2 1 0<br>"
   ]
  },
  {
   "cell_type": "code",
   "execution_count": 15,
   "metadata": {},
   "outputs": [
    {
     "name": "stdout",
     "output_type": "stream",
     "text": [
      "5\n",
      "0 1 2 3 4\n",
      "1 0 1 2 3\n",
      "2 1 0 1 2\n",
      "3 2 1 0 1\n",
      "4 3 2 1 0\n"
     ]
    }
   ],
   "source": [
    "n = int(input())\n",
    "a = [[\".\"] * n for i in range(n)]\n",
    "for i in range(n):\n",
    "    for j in range(n):\n",
    "        a[i][j] = abs(j - i)\n",
    "for row in a:\n",
    "    print(' '.join([str(elem) for elem in row]))"
   ]
  },
  {
   "cell_type": "markdown",
   "metadata": {},
   "source": [
    "### Задача 10 Числа Фибоначчи (3 балла)\n",
    "Напишите функцию fib(n), которая по данному целому неотрицательному n возвращает n-e число Фибоначчи. В этой задаче нельзя использовать циклы — используйте рекурсию."
   ]
  },
  {
   "cell_type": "code",
   "execution_count": 18,
   "metadata": {},
   "outputs": [
    {
     "name": "stdout",
     "output_type": "stream",
     "text": [
      "4\n",
      "3\n"
     ]
    }
   ],
   "source": [
    "def fib(n):\n",
    "    if n == 1 or n == 2:\n",
    "        return 1\n",
    "    else:\n",
    "        return fib(n - 1) + fib(n - 2)\n",
    "n = int(input())\n",
    "print(fib(n))"
   ]
  },
  {
   "cell_type": "markdown",
   "metadata": {},
   "source": [
    "### Обратная связь"
   ]
  },
  {
   "cell_type": "markdown",
   "metadata": {},
   "source": [
    "Пожалуйста, пройдите [анкету](https://goo.gl/forms/IeIO2lVd9iY7GN4v2) и оставьте свои впечатления от домашней работы / лекции. Мы очень хотим стать для вас лучше)))"
   ]
  }
 ],
 "metadata": {
  "anaconda-cloud": {},
  "kernelspec": {
   "display_name": "Python 3",
   "language": "python",
   "name": "python3"
  },
  "language_info": {
   "codemirror_mode": {
    "name": "ipython",
    "version": 3
   },
   "file_extension": ".py",
   "mimetype": "text/x-python",
   "name": "python",
   "nbconvert_exporter": "python",
   "pygments_lexer": "ipython3",
   "version": "3.7.0"
  }
 },
 "nbformat": 4,
 "nbformat_minor": 2
}
